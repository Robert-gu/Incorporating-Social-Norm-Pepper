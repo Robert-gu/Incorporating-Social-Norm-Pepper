{
 "cells": [
  {
   "cell_type": "code",
   "execution_count": 1,
   "metadata": {
    "collapsed": true,
    "pycharm": {
     "name": "#%%\n"
    }
   },
   "outputs": [
    {
     "name": "stdout",
     "output_type": "stream",
     "text": [
      "(28709,)\n",
      "Pre-Transforming Data\n",
      "Finished Pre-Transforming.\n",
      "(7178,)\n",
      "Pre-Transforming Data\n",
      "Finished Pre-Transforming.\n"
     ]
    }
   ],
   "source": [
    "import math\n",
    "\n",
    "import matplotlib.pyplot as plt\n",
    "import torch\n",
    "from torch.utils.data import Dataset\n",
    "from copy import deepcopy\n",
    "import torch.nn\n",
    "import torchvision.transforms as transforms\n",
    "from NetworkWrapper import *\n",
    "from Dataloader import *\n",
    "import numpy as np\n",
    "import math\n",
    "import cv2\n",
    "from torchsummary import summary\n",
    "import os\n",
    "import time\n",
    "\n",
    "train_transform=transforms.Compose([\n",
    "    transforms.ToTensor(),\n",
    "    transforms.Resize(150)\n",
    "])\n",
    "\n",
    "train_set = STLData(mode=\"train\",transform=None, pre_transform=train_transform)\n",
    "val_set = STLData(mode=\"test\",transform=None, pre_transform=train_transform)"
   ]
  },
  {
   "cell_type": "code",
   "execution_count": 2,
   "outputs": [
    {
     "ename": "FileExistsError",
     "evalue": "[WinError 183] Cannot create a file when that file already exists: 'upsampled_data/train/angry'",
     "output_type": "error",
     "traceback": [
      "\u001B[1;31m---------------------------------------------------------------------------\u001B[0m",
      "\u001B[1;31mFileExistsError\u001B[0m                           Traceback (most recent call last)",
      "\u001B[1;32m<ipython-input-2-e0a5d16a436f>\u001B[0m in \u001B[0;36m<module>\u001B[1;34m\u001B[0m\n\u001B[0;32m      4\u001B[0m \u001B[1;33m\u001B[0m\u001B[0m\n\u001B[0;32m      5\u001B[0m \u001B[1;32mfor\u001B[0m \u001B[0mcls\u001B[0m \u001B[1;32min\u001B[0m \u001B[0mclasses\u001B[0m\u001B[1;33m:\u001B[0m\u001B[1;33m\u001B[0m\u001B[1;33m\u001B[0m\u001B[0m\n\u001B[1;32m----> 6\u001B[1;33m     \u001B[0mos\u001B[0m\u001B[1;33m.\u001B[0m\u001B[0mmakedirs\u001B[0m\u001B[1;33m(\u001B[0m\u001B[0mpath\u001B[0m \u001B[1;33m+\u001B[0m \u001B[0mcls\u001B[0m\u001B[1;33m)\u001B[0m\u001B[1;33m\u001B[0m\u001B[1;33m\u001B[0m\u001B[0m\n\u001B[0m\u001B[0;32m      7\u001B[0m \u001B[1;33m\u001B[0m\u001B[0m\n",
      "\u001B[1;32m~\\anaconda3\\envs\\ECE4179\\lib\\os.py\u001B[0m in \u001B[0;36mmakedirs\u001B[1;34m(name, mode, exist_ok)\u001B[0m\n\u001B[0;32m    221\u001B[0m             \u001B[1;32mreturn\u001B[0m\u001B[1;33m\u001B[0m\u001B[1;33m\u001B[0m\u001B[0m\n\u001B[0;32m    222\u001B[0m     \u001B[1;32mtry\u001B[0m\u001B[1;33m:\u001B[0m\u001B[1;33m\u001B[0m\u001B[1;33m\u001B[0m\u001B[0m\n\u001B[1;32m--> 223\u001B[1;33m         \u001B[0mmkdir\u001B[0m\u001B[1;33m(\u001B[0m\u001B[0mname\u001B[0m\u001B[1;33m,\u001B[0m \u001B[0mmode\u001B[0m\u001B[1;33m)\u001B[0m\u001B[1;33m\u001B[0m\u001B[1;33m\u001B[0m\u001B[0m\n\u001B[0m\u001B[0;32m    224\u001B[0m     \u001B[1;32mexcept\u001B[0m \u001B[0mOSError\u001B[0m\u001B[1;33m:\u001B[0m\u001B[1;33m\u001B[0m\u001B[1;33m\u001B[0m\u001B[0m\n\u001B[0;32m    225\u001B[0m         \u001B[1;31m# Cannot rely on checking for EEXIST, since the operating system\u001B[0m\u001B[1;33m\u001B[0m\u001B[1;33m\u001B[0m\u001B[1;33m\u001B[0m\u001B[0m\n",
      "\u001B[1;31mFileExistsError\u001B[0m: [WinError 183] Cannot create a file when that file already exists: 'upsampled_data/train/angry'"
     ]
    }
   ],
   "source": [
    "classes = ['angry', 'disgusted', 'fearful', 'happy', 'neutral', 'sad', 'surprised']\n",
    "\n",
    "path = \"upsampled_data/train/\"\n",
    "\n",
    "for cls in classes:\n",
    "    os.makedirs(path + cls)"
   ],
   "metadata": {
    "collapsed": false,
    "pycharm": {
     "name": "#%%\n"
    }
   }
  },
  {
   "cell_type": "code",
   "execution_count": null,
   "outputs": [],
   "source": [
    "trainloader = torch.utils.data.DataLoader(train_set, batch_size=50, shuffle=True)\n",
    "main_fig = plt.figure()\n",
    "image_batch, labels = next(iter(trainloader))\n",
    "\n",
    "counter = [0,0,0,0,0,0,0]\n",
    "for image_batch, labels in iter(trainloader):\n",
    "    for image, label in zip(image_batch, labels):\n",
    "        image_path = path + classes[label] + f\"/img{counter[label]}.jpg\"\n",
    "        counter[label] += 1\n",
    "        img = np.moveaxis(image.numpy(), 0, 2)\n",
    "        cv2.imwrite(image_path, img)\n"
   ],
   "metadata": {
    "collapsed": false,
    "pycharm": {
     "name": "#%%\n"
    }
   }
  },
  {
   "cell_type": "code",
   "execution_count": null,
   "outputs": [],
   "source": [
    "classes = ['angry', 'disgusted', 'fearful', 'happy', 'neutral', 'sad', 'surprised']\n",
    "\n",
    "path = \"upsampled_data/test/\"\n",
    "\n",
    "for cls in classes:\n",
    "    os.makedirs(path + cls)"
   ],
   "metadata": {
    "collapsed": false,
    "pycharm": {
     "name": "#%%\n"
    }
   }
  },
  {
   "cell_type": "code",
   "execution_count": null,
   "outputs": [],
   "source": [
    "testloader = torch.utils.data.DataLoader(val_set, batch_size=50, shuffle=True)\n",
    "main_fig = plt.figure()\n",
    "\n",
    "counter = [0,0,0,0,0,0,0]\n",
    "for image_batch, labels in iter(testloader):\n",
    "    for image, label in zip(image_batch, labels):\n",
    "        image_path = path + classes[label] + f\"/img{counter[label]}.jpg\"\n",
    "        counter[label] += 1\n",
    "        img = np.moveaxis(image.numpy(), 0, 2)\n",
    "        cv2.imwrite(image_path, img)"
   ],
   "metadata": {
    "collapsed": false,
    "pycharm": {
     "name": "#%%\n"
    }
   }
  }
 ],
 "metadata": {
  "kernelspec": {
   "name": "pycharm-f3e70ba8",
   "language": "python",
   "display_name": "PyCharm (ECE4179)"
  },
  "language_info": {
   "codemirror_mode": {
    "name": "ipython",
    "version": 2
   },
   "file_extension": ".py",
   "mimetype": "text/x-python",
   "name": "python",
   "nbconvert_exporter": "python",
   "pygments_lexer": "ipython2",
   "version": "2.7.6"
  }
 },
 "nbformat": 4,
 "nbformat_minor": 0
}